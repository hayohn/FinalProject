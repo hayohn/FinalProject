{
 "cells": [
  {
   "cell_type": "code",
   "execution_count": 1,
   "id": "90ae3e02",
   "metadata": {},
   "outputs": [],
   "source": [
    "import pandas as pd\n",
    "from sklearn.model_selection import train_test_split\n",
    "from sklearn.preprocessing import StandardScaler, LabelEncoder\n",
    "import seaborn as sns\n",
    "import matplotlib.pyplot as plot\n",
    "import matplotlib.pyplot as plt"
   ]
  },
  {
   "cell_type": "markdown",
   "id": "2854fb84",
   "metadata": {},
   "source": [
    "# Data Collection"
   ]
  },
  {
   "cell_type": "code",
   "execution_count": 2,
   "id": "d9821100",
   "metadata": {},
   "outputs": [],
   "source": [
    "\n",
    "fertility_data = pd.read_csv('Fertility.csv')\n",
    "life_expectancy_data = pd.read_csv('Life expectancy.csv')\n",
    "population_growth_data = pd.read_csv('Population growth.csv')\n",
    "sex_ratio_data = pd.read_csv('Sex-ratio.csv')\n",
    "suicide_rate_data = pd.read_csv('Suicide rate.csv')\n",
    "urbanization_rate_data = pd.read_csv('Urbanization rate.csv')\n",
    "median_age_data = pd.read_csv('Median age.csv')\n"
   ]
  },
  {
   "cell_type": "code",
   "execution_count": 3,
   "id": "5078c4e0",
   "metadata": {},
   "outputs": [],
   "source": [
    "# List of dataframes to merge\n",
    "data_frames = [fertility_data, life_expectancy_data, population_growth_data, sex_ratio_data, suicide_rate_data, urbanization_rate_data, median_age_data]"
   ]
  },
  {
   "cell_type": "code",
   "execution_count": 4,
   "id": "b65c3923",
   "metadata": {},
   "outputs": [],
   "source": [
    "# Initial dataframe to start merging (assuming you start with fertility_data)\n",
    "combined_data = fertility_data\n",
    "# List of additional dataframes to merge into the initial one\n",
    "additional_data_frames = [\n",
    "    life_expectancy_data, \n",
    "    population_growth_data, \n",
    "    sex_ratio_data, \n",
    "    suicide_rate_data, \n",
    "    urbanization_rate_data, \n",
    "    median_age_data\n",
    "]\n",
    "\n",
    "# Iteratively merge each dataframe\n",
    "for df in additional_data_frames:\n",
    "    combined_data = pd.merge(combined_data, df, on=['Country', 'ISO-code'], how='outer')"
   ]
  },
  {
   "cell_type": "code",
   "execution_count": 5,
   "id": "23b1fb70",
   "metadata": {},
   "outputs": [],
   "source": [
    "# Save the combined dataset to a CSV file\n",
    "combined_data_path = 'combined_world_data.csv'\n",
    "combined_data.to_csv(combined_data_path, index=False)"
   ]
  },
  {
   "cell_type": "markdown",
   "id": "c9e6d0e2",
   "metadata": {},
   "source": [
    "# Preprocessing"
   ]
  },
  {
   "cell_type": "code",
   "execution_count": 6,
   "id": "af9115ac",
   "metadata": {},
   "outputs": [],
   "source": [
    "# Remove missing data\n",
    "combined_data.dropna(inplace=True)\n",
    "\n"
   ]
  },
  {
   "cell_type": "code",
   "execution_count": 7,
   "id": "a9407e67",
   "metadata": {},
   "outputs": [],
   "source": [
    "# Remove duplicate records\n",
    "combined_data.drop_duplicates(inplace=True)"
   ]
  },
  {
   "cell_type": "code",
   "execution_count": 8,
   "id": "7f250fe2",
   "metadata": {},
   "outputs": [],
   "source": [
    "# Encode categorical variables\n",
    "label_encoder = LabelEncoder()\n",
    "categorical_columns = ['Country', 'ISO-code']\n",
    "for column in categorical_columns:\n",
    "    combined_data[column] = label_encoder.fit_transform(combined_data[column])"
   ]
  },
  {
   "cell_type": "code",
   "execution_count": 9,
   "id": "a00b176d",
   "metadata": {},
   "outputs": [],
   "source": [
    "# Scale numerical variables\n",
    "scaler = StandardScaler()\n",
    "numerical_columns = ['Fertility', 'Life expectancy', 'Median age', 'Population growth', 'Sex-ratio', 'Suicide rate', 'Urbanization rate']\n",
    "combined_data[numerical_columns] = scaler.fit_transform(combined_data[numerical_columns])"
   ]
  },
  {
   "cell_type": "code",
   "execution_count": 10,
   "id": "de341d78",
   "metadata": {},
   "outputs": [
    {
     "data": {
      "text/html": [
       "<div>\n",
       "<style scoped>\n",
       "    .dataframe tbody tr th:only-of-type {\n",
       "        vertical-align: middle;\n",
       "    }\n",
       "\n",
       "    .dataframe tbody tr th {\n",
       "        vertical-align: top;\n",
       "    }\n",
       "\n",
       "    .dataframe thead th {\n",
       "        text-align: right;\n",
       "    }\n",
       "</style>\n",
       "<table border=\"1\" class=\"dataframe\">\n",
       "  <thead>\n",
       "    <tr style=\"text-align: right;\">\n",
       "      <th></th>\n",
       "      <th>Country</th>\n",
       "      <th>Fertility</th>\n",
       "      <th>ISO-code</th>\n",
       "      <th>Life expectancy</th>\n",
       "      <th>Population growth</th>\n",
       "      <th>Sex-ratio</th>\n",
       "      <th>Suicide rate</th>\n",
       "      <th>Urbanization rate</th>\n",
       "      <th>Median age</th>\n",
       "    </tr>\n",
       "  </thead>\n",
       "  <tbody>\n",
       "    <tr>\n",
       "      <th>0</th>\n",
       "      <td>0</td>\n",
       "      <td>0.726828</td>\n",
       "      <td>0</td>\n",
       "      <td>-0.258807</td>\n",
       "      <td>0.491678</td>\n",
       "      <td>0.411244</td>\n",
       "      <td>-0.706697</td>\n",
       "      <td>-1.296824</td>\n",
       "      <td>0.268730</td>\n",
       "    </tr>\n",
       "    <tr>\n",
       "      <th>2</th>\n",
       "      <td>1</td>\n",
       "      <td>-0.405030</td>\n",
       "      <td>45</td>\n",
       "      <td>1.183349</td>\n",
       "      <td>0.005166</td>\n",
       "      <td>0.411244</td>\n",
       "      <td>-1.405950</td>\n",
       "      <td>1.169147</td>\n",
       "      <td>0.353393</td>\n",
       "    </tr>\n",
       "    <tr>\n",
       "      <th>4</th>\n",
       "      <td>2</td>\n",
       "      <td>1.481400</td>\n",
       "      <td>1</td>\n",
       "      <td>-0.696182</td>\n",
       "      <td>1.155954</td>\n",
       "      <td>-0.340384</td>\n",
       "      <td>-0.142782</td>\n",
       "      <td>0.812434</td>\n",
       "      <td>-1.122160</td>\n",
       "    </tr>\n",
       "    <tr>\n",
       "      <th>5</th>\n",
       "      <td>3</td>\n",
       "      <td>-1.159602</td>\n",
       "      <td>5</td>\n",
       "      <td>1.206991</td>\n",
       "      <td>-0.799449</td>\n",
       "      <td>-0.904105</td>\n",
       "      <td>-2.037534</td>\n",
       "      <td>-1.379540</td>\n",
       "      <td>0.812992</td>\n",
       "    </tr>\n",
       "    <tr>\n",
       "      <th>6</th>\n",
       "      <td>4</td>\n",
       "      <td>-0.933230</td>\n",
       "      <td>3</td>\n",
       "      <td>1.159707</td>\n",
       "      <td>-0.939789</td>\n",
       "      <td>-0.058523</td>\n",
       "      <td>-0.097669</td>\n",
       "      <td>2.120380</td>\n",
       "      <td>0.788802</td>\n",
       "    </tr>\n",
       "  </tbody>\n",
       "</table>\n",
       "</div>"
      ],
      "text/plain": [
       "   Country  Fertility  ISO-code  Life expectancy  Population growth  \\\n",
       "0        0   0.726828         0        -0.258807           0.491678   \n",
       "2        1  -0.405030        45         1.183349           0.005166   \n",
       "4        2   1.481400         1        -0.696182           1.155954   \n",
       "5        3  -1.159602         5         1.206991          -0.799449   \n",
       "6        4  -0.933230         3         1.159707          -0.939789   \n",
       "\n",
       "   Sex-ratio  Suicide rate  Urbanization rate  Median age  \n",
       "0   0.411244     -0.706697          -1.296824    0.268730  \n",
       "2   0.411244     -1.405950           1.169147    0.353393  \n",
       "4  -0.340384     -0.142782           0.812434   -1.122160  \n",
       "5  -0.904105     -2.037534          -1.379540    0.812992  \n",
       "6  -0.058523     -0.097669           2.120380    0.788802  "
      ]
     },
     "execution_count": 10,
     "metadata": {},
     "output_type": "execute_result"
    }
   ],
   "source": [
    "combined_data.head()"
   ]
  },
  {
   "cell_type": "code",
   "execution_count": 11,
   "id": "d6ff70aa",
   "metadata": {},
   "outputs": [
    {
     "name": "stdout",
     "output_type": "stream",
     "text": [
      "<class 'pandas.core.frame.DataFrame'>\n",
      "Index: 297 entries, 0 to 327\n",
      "Data columns (total 9 columns):\n",
      " #   Column             Non-Null Count  Dtype  \n",
      "---  ------             --------------  -----  \n",
      " 0   Country            297 non-null    int32  \n",
      " 1   Fertility          297 non-null    float64\n",
      " 2   ISO-code           297 non-null    int32  \n",
      " 3   Life expectancy    297 non-null    float64\n",
      " 4   Population growth  297 non-null    float64\n",
      " 5   Sex-ratio          297 non-null    float64\n",
      " 6   Suicide rate       297 non-null    float64\n",
      " 7   Urbanization rate  297 non-null    float64\n",
      " 8   Median age         297 non-null    float64\n",
      "dtypes: float64(7), int32(2)\n",
      "memory usage: 20.9 KB\n"
     ]
    }
   ],
   "source": [
    "combined_data.info()"
   ]
  },
  {
   "cell_type": "code",
   "execution_count": 12,
   "id": "0cd296b8",
   "metadata": {},
   "outputs": [
    {
     "name": "stdout",
     "output_type": "stream",
     "text": [
      "['Country', 'Fertility', 'ISO-code', 'Life expectancy', 'Population growth', 'Sex-ratio', 'Suicide rate', 'Urbanization rate', 'Median age']\n"
     ]
    }
   ],
   "source": [
    "\n",
    "cols=list(combined_data.columns)\n",
    "print(cols)\n",
    "\n"
   ]
  },
  {
   "cell_type": "code",
   "execution_count": 13,
   "id": "65084c31",
   "metadata": {},
   "outputs": [],
   "source": [
    "# Your current columns\n",
    "cols = ['Country', 'Fertility', 'ISO-code', 'Life expectancy', 'Population growth', 'Sex-ratio', 'Suicide rate', 'Urbanization rate', 'Median age']\n",
    "\n",
    "# The new order you want, with 'Fertility' and 'Life expectancy' swapped\n",
    "new_order = ['Country', 'Life expectancy', 'ISO-code', 'Fertility', 'Population growth', 'Sex-ratio', 'Suicide rate', 'Urbanization rate', 'Median age']\n",
    "\n",
    "# Reorder the columns in the DataFrame\n",
    "combined_data = combined_data[new_order]"
   ]
  },
  {
   "cell_type": "code",
   "execution_count": 14,
   "id": "1a69c015",
   "metadata": {},
   "outputs": [
    {
     "data": {
      "text/html": [
       "<div>\n",
       "<style scoped>\n",
       "    .dataframe tbody tr th:only-of-type {\n",
       "        vertical-align: middle;\n",
       "    }\n",
       "\n",
       "    .dataframe tbody tr th {\n",
       "        vertical-align: top;\n",
       "    }\n",
       "\n",
       "    .dataframe thead th {\n",
       "        text-align: right;\n",
       "    }\n",
       "</style>\n",
       "<table border=\"1\" class=\"dataframe\">\n",
       "  <thead>\n",
       "    <tr style=\"text-align: right;\">\n",
       "      <th></th>\n",
       "      <th>Country</th>\n",
       "      <th>Life expectancy</th>\n",
       "      <th>ISO-code</th>\n",
       "      <th>Fertility</th>\n",
       "      <th>Population growth</th>\n",
       "      <th>Sex-ratio</th>\n",
       "      <th>Suicide rate</th>\n",
       "      <th>Urbanization rate</th>\n",
       "      <th>Median age</th>\n",
       "    </tr>\n",
       "  </thead>\n",
       "  <tbody>\n",
       "    <tr>\n",
       "      <th>0</th>\n",
       "      <td>0</td>\n",
       "      <td>-0.258807</td>\n",
       "      <td>0</td>\n",
       "      <td>0.726828</td>\n",
       "      <td>0.491678</td>\n",
       "      <td>0.411244</td>\n",
       "      <td>-0.706697</td>\n",
       "      <td>-1.296824</td>\n",
       "      <td>0.268730</td>\n",
       "    </tr>\n",
       "    <tr>\n",
       "      <th>2</th>\n",
       "      <td>1</td>\n",
       "      <td>1.183349</td>\n",
       "      <td>45</td>\n",
       "      <td>-0.405030</td>\n",
       "      <td>0.005166</td>\n",
       "      <td>0.411244</td>\n",
       "      <td>-1.405950</td>\n",
       "      <td>1.169147</td>\n",
       "      <td>0.353393</td>\n",
       "    </tr>\n",
       "    <tr>\n",
       "      <th>4</th>\n",
       "      <td>2</td>\n",
       "      <td>-0.696182</td>\n",
       "      <td>1</td>\n",
       "      <td>1.481400</td>\n",
       "      <td>1.155954</td>\n",
       "      <td>-0.340384</td>\n",
       "      <td>-0.142782</td>\n",
       "      <td>0.812434</td>\n",
       "      <td>-1.122160</td>\n",
       "    </tr>\n",
       "    <tr>\n",
       "      <th>5</th>\n",
       "      <td>3</td>\n",
       "      <td>1.206991</td>\n",
       "      <td>5</td>\n",
       "      <td>-1.159602</td>\n",
       "      <td>-0.799449</td>\n",
       "      <td>-0.904105</td>\n",
       "      <td>-2.037534</td>\n",
       "      <td>-1.379540</td>\n",
       "      <td>0.812992</td>\n",
       "    </tr>\n",
       "    <tr>\n",
       "      <th>6</th>\n",
       "      <td>4</td>\n",
       "      <td>1.159707</td>\n",
       "      <td>3</td>\n",
       "      <td>-0.933230</td>\n",
       "      <td>-0.939789</td>\n",
       "      <td>-0.058523</td>\n",
       "      <td>-0.097669</td>\n",
       "      <td>2.120380</td>\n",
       "      <td>0.788802</td>\n",
       "    </tr>\n",
       "  </tbody>\n",
       "</table>\n",
       "</div>"
      ],
      "text/plain": [
       "   Country  Life expectancy  ISO-code  Fertility  Population growth  \\\n",
       "0        0        -0.258807         0   0.726828           0.491678   \n",
       "2        1         1.183349        45  -0.405030           0.005166   \n",
       "4        2        -0.696182         1   1.481400           1.155954   \n",
       "5        3         1.206991         5  -1.159602          -0.799449   \n",
       "6        4         1.159707         3  -0.933230          -0.939789   \n",
       "\n",
       "   Sex-ratio  Suicide rate  Urbanization rate  Median age  \n",
       "0   0.411244     -0.706697          -1.296824    0.268730  \n",
       "2   0.411244     -1.405950           1.169147    0.353393  \n",
       "4  -0.340384     -0.142782           0.812434   -1.122160  \n",
       "5  -0.904105     -2.037534          -1.379540    0.812992  \n",
       "6  -0.058523     -0.097669           2.120380    0.788802  "
      ]
     },
     "execution_count": 14,
     "metadata": {},
     "output_type": "execute_result"
    }
   ],
   "source": [
    "combined_data.head()"
   ]
  },
  {
   "cell_type": "code",
   "execution_count": 15,
   "id": "4e53de79",
   "metadata": {},
   "outputs": [
    {
     "name": "stdout",
     "output_type": "stream",
     "text": [
      "<class 'pandas.core.frame.DataFrame'>\n",
      "Index: 297 entries, 0 to 327\n",
      "Data columns (total 9 columns):\n",
      " #   Column             Non-Null Count  Dtype  \n",
      "---  ------             --------------  -----  \n",
      " 0   Country            297 non-null    int32  \n",
      " 1   Life expectancy    297 non-null    float64\n",
      " 2   ISO-code           297 non-null    int32  \n",
      " 3   Fertility          297 non-null    float64\n",
      " 4   Population growth  297 non-null    float64\n",
      " 5   Sex-ratio          297 non-null    float64\n",
      " 6   Suicide rate       297 non-null    float64\n",
      " 7   Urbanization rate  297 non-null    float64\n",
      " 8   Median age         297 non-null    float64\n",
      "dtypes: float64(7), int32(2)\n",
      "memory usage: 20.9 KB\n"
     ]
    }
   ],
   "source": [
    "combined_data.info()"
   ]
  },
  {
   "cell_type": "code",
   "execution_count": 16,
   "id": "56f1e6cf",
   "metadata": {},
   "outputs": [
    {
     "name": "stdout",
     "output_type": "stream",
     "text": [
      "['Country', 'Life expectancy', 'ISO-code', 'Fertility', 'Population growth', 'Sex-ratio', 'Suicide rate', 'Urbanization rate', 'Median age']\n"
     ]
    }
   ],
   "source": [
    "cols=list(combined_data.columns)\n",
    "print(cols)\n"
   ]
  },
  {
   "cell_type": "code",
   "execution_count": null,
   "id": "9fa96235",
   "metadata": {},
   "outputs": [],
   "source": []
  },
  {
   "cell_type": "code",
   "execution_count": null,
   "id": "066ac74c",
   "metadata": {},
   "outputs": [],
   "source": []
  }
 ],
 "metadata": {
  "kernelspec": {
   "display_name": "Python 3 (ipykernel)",
   "language": "python",
   "name": "python3"
  },
  "language_info": {
   "codemirror_mode": {
    "name": "ipython",
    "version": 3
   },
   "file_extension": ".py",
   "mimetype": "text/x-python",
   "name": "python",
   "nbconvert_exporter": "python",
   "pygments_lexer": "ipython3",
   "version": "3.11.5"
  }
 },
 "nbformat": 4,
 "nbformat_minor": 5
}
